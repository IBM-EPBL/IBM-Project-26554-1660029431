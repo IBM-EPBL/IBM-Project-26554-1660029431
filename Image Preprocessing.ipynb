{
 "cells": [
  {
   "cell_type": "markdown",
   "id": "6f079a3d",
   "metadata": {},
   "source": [
    "# Detecting Parkinson's disease using Machine learning"
   ]
  },
  {
   "cell_type": "markdown",
   "id": "aa9d191c",
   "metadata": {},
   "source": [
    "# Team ID: PNT2022TMID19104"
   ]
  },
  {
   "cell_type": "markdown",
   "id": "cb76a710",
   "metadata": {},
   "source": [
    "# 1. Importing The Necessary Libraries"
   ]
  },
  {
   "cell_type": "code",
   "execution_count": 3,
   "id": "ea36242f",
   "metadata": {},
   "outputs": [
    {
     "name": "stdout",
     "output_type": "stream",
     "text": [
      "Requirement already satisfied: scikit-image in c:\\users\\tamil\\.conda\\envs\\tensorflow\\lib\\site-packages (0.19.3)\n",
      "Requirement already satisfied: tifffile>=2019.7.26 in c:\\users\\tamil\\.conda\\envs\\tensorflow\\lib\\site-packages (from scikit-image) (2022.10.10)\n",
      "Requirement already satisfied: numpy>=1.17.0 in c:\\users\\tamil\\.conda\\envs\\tensorflow\\lib\\site-packages (from scikit-image) (1.22.3)\n",
      "Requirement already satisfied: PyWavelets>=1.1.1 in c:\\users\\tamil\\.conda\\envs\\tensorflow\\lib\\site-packages (from scikit-image) (1.4.1)\n",
      "Requirement already satisfied: imageio>=2.4.1 in c:\\users\\tamil\\.conda\\envs\\tensorflow\\lib\\site-packages (from scikit-image) (2.22.2)\n",
      "Requirement already satisfied: packaging>=20.0 in c:\\users\\tamil\\.conda\\envs\\tensorflow\\lib\\site-packages (from scikit-image) (21.3)\n",
      "Requirement already satisfied: networkx>=2.2 in c:\\users\\tamil\\.conda\\envs\\tensorflow\\lib\\site-packages (from scikit-image) (2.8.7)\n",
      "Requirement already satisfied: pillow!=7.1.0,!=7.1.1,!=8.3.0,>=6.1.0 in c:\\users\\tamil\\.conda\\envs\\tensorflow\\lib\\site-packages (from scikit-image) (9.2.0)\n",
      "Requirement already satisfied: scipy>=1.4.1 in c:\\users\\tamil\\.conda\\envs\\tensorflow\\lib\\site-packages (from scikit-image) (1.7.3)\n",
      "Requirement already satisfied: pyparsing!=3.0.5,>=2.0.2 in c:\\users\\tamil\\.conda\\envs\\tensorflow\\lib\\site-packages (from packaging>=20.0->scikit-image) (3.0.9)\n"
     ]
    }
   ],
   "source": [
    "!pip install scikit-image\n",
    "from sklearn.ensemble import RandomForestClassifier\n",
    "from sklearn.preprocessing import LabelEncoder\n",
    "from sklearn.metrics import confusion_matrix\n",
    "from skimage import feature\n",
    "from imutils import build_montages\n",
    "from imutils import paths\n",
    "import numpy as np\n",
    "import cv2\n",
    "import os\n",
    "import pickle"
   ]
  },
  {
   "cell_type": "markdown",
   "id": "90a4fc15",
   "metadata": {},
   "source": [
    "# 2. Quantifying Images"
   ]
  },
  {
   "cell_type": "code",
   "execution_count": 4,
   "id": "c5cc590c",
   "metadata": {},
   "outputs": [],
   "source": [
    "def quantify_image(image):\n",
    "    features = feature.hog(image, orientations=9,\n",
    "                           pixels_per_cell=(10, 10), cells_per_block=(2, 2),\n",
    "                           transform_sqrt=True, block_norm=\"L1\")\n",
    "    return features"
   ]
  },
  {
   "cell_type": "markdown",
   "id": "1fad851a",
   "metadata": {},
   "source": [
    "# 3. Loading Train Data And Test Data"
   ]
  },
  {
   "cell_type": "code",
   "execution_count": 5,
   "id": "61ac116f",
   "metadata": {},
   "outputs": [
    {
     "name": "stdout",
     "output_type": "stream",
     "text": [
      "[INFO] loading data...\n"
     ]
    }
   ],
   "source": [
    "def load_split(path):\n",
    "    imagepaths=list(paths.list_images(path))\n",
    "    data=[]\n",
    "    labels=[]\n",
    "    for imagePath in imagepaths:\n",
    "        # extract the class label from the filename\n",
    "        label = imagePath.split(os.path.sep)[-2]\n",
    "        # load the input image, convert it to grayscale, and resize\n",
    "        # it to 200x200 pixels, ignoring aspect ratio\n",
    "        image = cv2.imread(imagePath)\n",
    "        image = cv2.cvtColor(image, cv2.COLOR_BGR2GRAY)\n",
    "        image = cv2.resize(image, (200, 200))\n",
    "        # threshold the image such that the drawing appears as white\n",
    "        # on a black background\n",
    "        image = cv2.threshold(image, 0, 255,\n",
    "                              cv2.THRESH_BINARY_INV | cv2.THRESH_OTSU)[1]\n",
    "        # quantify the image\n",
    "        features = quantify_image(image)\n",
    "        # update the data and labels lists, respectively\n",
    "        data.append(features)\n",
    "        labels.append(label)\n",
    "    return (np.array(data), np.array(labels))\n",
    "\n",
    "testingpath=r\"Desktop/Jupyter/spiral/testing\"\n",
    "trainingpath=r\"Desktop/Jupyter/spiral/training\"\n",
    "print(\"[INFO] loading data...\")\n",
    "(x_train,y_train)= load_split(trainingpath)\n",
    "(x_test,y_test)= load_split(testingpath)"
   ]
  },
  {
   "cell_type": "markdown",
   "id": "0ab72f03",
   "metadata": {},
   "source": [
    "# 4. Label Encoding"
   ]
  },
  {
   "cell_type": "code",
   "execution_count": null,
   "id": "f2dd04ce",
   "metadata": {},
   "outputs": [],
   "source": [
    "le=LableEncoder()\n",
    "y_train=le.fit_transform(y_train)\n",
    "y_test=le.transform(y_test)\n",
    "print(x_train.shape,y_train.shape)"
   ]
  },
  {
   "cell_type": "code",
   "execution_count": null,
   "id": "91db07b8",
   "metadata": {},
   "outputs": [],
   "source": []
  }
 ],
 "metadata": {
  "kernelspec": {
   "display_name": "Python 3 (ipykernel)",
   "language": "python",
   "name": "python3"
  },
  "language_info": {
   "codemirror_mode": {
    "name": "ipython",
    "version": 3
   },
   "file_extension": ".py",
   "mimetype": "text/x-python",
   "name": "python",
   "nbconvert_exporter": "python",
   "pygments_lexer": "ipython3",
   "version": "3.9.13"
  }
 },
 "nbformat": 4,
 "nbformat_minor": 5
}
